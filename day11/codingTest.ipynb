{
 "cells": [
  {
   "cell_type": "markdown",
   "metadata": {},
   "source": [
    "## 1번 문제"
   ]
  },
  {
   "cell_type": "markdown",
   "metadata": {},
   "source": [
    "1. 입력한 주민번호를 통해 남성과 여성을 구분할 수 있는 프로그램을 작성하세요.(1,3,5는 남성. 2,4,6은 여성입니다)"
   ]
  },
  {
   "cell_type": "code",
   "execution_count": 1,
   "metadata": {},
   "outputs": [
    {
     "name": "stdout",
     "output_type": "stream",
     "text": [
      "입력하신분의 성별은 남성 입니다.\n"
     ]
    }
   ],
   "source": [
    "def check_gender(checkIn) :  \n",
    "    genderId = int(checkIn[7])\n",
    "    if genderId in [1,3,5] : # 8번째 인덱스가 1,3,5이라면\n",
    "        return \"남성\"\n",
    "    elif genderId in [2,4,6] : # 8번째 인덱스가 2, 4, 6이라면\n",
    "        return \"여성\"\n",
    "    else :\n",
    "        return \"올바르지 않은 주민번호 입니다.\"\n",
    "\n",
    "def main() :\n",
    "    checkIn = input(\"주민등록번호를 입력하세요 >>\")\n",
    "    if len(checkIn) != 14 or checkIn[6] != \"-\" : # 14자리가 아니거나 7번째 인덱스의 문자가 '-'가 아닌 경우\n",
    "        print(\"올바르지 않은 주민번호 입니다.\")\n",
    "        return\n",
    "\n",
    "    gender = check_gender(checkIn)\n",
    "    print(\"입력하신분의 성별은\", gender, \"입니다.\")\n",
    "\n",
    "if __name__ ==\"__main__\" :\n",
    "    main()"
   ]
  },
  {
   "cell_type": "markdown",
   "metadata": {},
   "source": [
    "## 2번 문제"
   ]
  },
  {
   "cell_type": "markdown",
   "metadata": {},
   "source": [
    "2. 일주일의 영어명은 'MON', 'TUE', 'WED', 'TUR', 'FRI', 'SAT', 'SUN' 입니다. 이를 입력하면, '오늘은 월요일~일요일 입니다'라는 메시지가 출력되는 프로그램을 작성하세요."
   ]
  },
  {
   "cell_type": "code",
   "execution_count": 6,
   "metadata": {},
   "outputs": [
    {
     "name": "stdout",
     "output_type": "stream",
     "text": [
      "오늘은 일요일 입니다.\n"
     ]
    }
   ],
   "source": [
    "def kor_dayName(engName) : # 영어 : 한국어 정의\n",
    "    day = {\n",
    "        \"MON\" : \"월요일\",\n",
    "        \"TUE\" : \"화요일\",\n",
    "        \"WED\" : \"수요일\",\n",
    "        \"TUR\" : \"목요일\",\n",
    "        \"FRI\" : \"금요일\",\n",
    "        \"SAT\" : \"토요일\",\n",
    "        \"SUN\" : \"일요일\",\n",
    "    }\n",
    "    return day.get(engName.upper(), \"잘못된 입력입니다.\")\n",
    "\n",
    "def main() :\n",
    "    eng_dayName = input(\"영어로 된 요일을 입력하세요 >>\")\n",
    "    kor_day = kor_dayName(eng_dayName)\n",
    "    if kor_day == \"잘못된 입력입니다.\" : # 한국어가 입력된다면\n",
    "        print(kor_day)\n",
    "    else :\n",
    "        print(\"오늘은\", kor_day, \"입니다.\")\n",
    "\n",
    "if __name__ ==\"__main__\" :\n",
    "    main()"
   ]
  },
  {
   "cell_type": "markdown",
   "metadata": {},
   "source": [
    "## 3번 문제"
   ]
  },
  {
   "cell_type": "markdown",
   "metadata": {},
   "source": [
    "3. 나이를 입력하면 19세 미만일 경우 입자을 못하게 하는 클럽 입장 프로그램을 작성하세요.\n",
    "예> 나이 입력\n",
    "17 -> '애들은 가라'\n",
    "24 -> '어서옵쇼, 손님!!'"
   ]
  },
  {
   "cell_type": "code",
   "execution_count": 10,
   "metadata": {},
   "outputs": [
    {
     "name": "stdout",
     "output_type": "stream",
     "text": [
      "어서옵쇼, 손님!!\n"
     ]
    }
   ],
   "source": [
    "def club_comeIn(age) :  # 출입 나이 정의\n",
    "    if age < 19 :\n",
    "        return \"애들은 가라!!\"\n",
    "    elif age > 19 :\n",
    "        return \"어서옵쇼, 손님!!\"\n",
    "    else :              \n",
    "        return \"잘못된 입력입니다.\"\n",
    "    \n",
    "def main() :\n",
    "    age = int(input(\"나이를 입력하세요 >>\"))\n",
    "    message = club_comeIn(age)\n",
    "    print(message)\n",
    "\n",
    "if __name__ ==\"__main__\" :\n",
    "    main()"
   ]
  },
  {
   "cell_type": "markdown",
   "metadata": {},
   "source": [
    "## 4번 문제"
   ]
  },
  {
   "cell_type": "markdown",
   "metadata": {},
   "source": [
    "4. while 문을 사용, 1부터 1000 까지 에서 3과 5의 배수를 모두 구한뒤, result.txt에 저장하는 프로그램을 작성하세요."
   ]
  },
  {
   "cell_type": "code",
   "execution_count": 4,
   "metadata": {},
   "outputs": [
    {
     "name": "stdout",
     "output_type": "stream",
     "text": [
      "while 문을 사용, 1부터 1000 까지 에서 3과 5의 배수를 모두 구한뒤, result.txt에 저장하였습니다.\n"
     ]
    }
   ],
   "source": [
    "def main() :\n",
    "    result_file = open(\"result.txt\", \"w\") # 파일 열기\n",
    "    number = 1\n",
    "    while number <= 1000 :\n",
    "        if number % 3 == 0 or number % 5 == 0 : # 3, 5 배수 구하기\n",
    "            result_file.write(str(number) + \"\\n\") # 3, 5 배수를 한줄 띄어 적기\n",
    "        number += 1\n",
    "\n",
    "    result_file.close()\n",
    "    print(\"while 문을 사용, 1부터 1000 까지 에서 3과 5의 배수를 모두 구한뒤, result.txt에 저장하였습니다.\")\n",
    "\n",
    "if __name__ ==\"__main__\" :\n",
    "    main()\n",
    "\n",
    "\n"
   ]
  },
  {
   "cell_type": "markdown",
   "metadata": {},
   "source": [
    "## 5번 문제"
   ]
  },
  {
   "cell_type": "markdown",
   "metadata": {},
   "source": [
    "5. datetime 모듈을 사용, 지금 현재의 날짜와 시간을 아래와 같은 형식으로 출력하는 프로그램을 작성하세요.\n",
    "예> 2024\\03%06 16**25//32"
   ]
  },
  {
   "cell_type": "code",
   "execution_count": 14,
   "metadata": {},
   "outputs": [
    {
     "name": "stdout",
     "output_type": "stream",
     "text": [
      "2024\\03%07, 10**31//26\n"
     ]
    }
   ],
   "source": [
    "from datetime import datetime\n",
    "\n",
    "def main() :\n",
    "    nowTime = datetime.now()\n",
    "    formatted_date = nowTime.strftime(\"%Y\\%m%%%d, %H**%M//%S\")\n",
    "    # %Y >> 년도의 4자리 표시\n",
    "    # \\ >> 역슬래시 문자\n",
    "    # %m >> 월을 표시, 0패딩 들어감\n",
    "    # % >> 문자열\n",
    "    # %d >> 일을 표시, 0패딩 들어감\n",
    "    # , >> 년,월,일 - 시,분,초 보기 편하게 임의 설정\n",
    "    # %H >> 시간을 표시, 0패딩 들어감\n",
    "    # ** >> 문자열\n",
    "    # %M >> 분을 표시, 0패딩 들어감\n",
    "    # // >> 문자열\n",
    "    # %S >> 초를 표시, 0패딩 들어감\n",
    "    print(formatted_date)\n",
    "\n",
    "if __name__ ==\"__main__\" :\n",
    "    main()\n"
   ]
  }
 ],
 "metadata": {
  "kernelspec": {
   "display_name": "Python 3",
   "language": "python",
   "name": "python3"
  },
  "language_info": {
   "codemirror_mode": {
    "name": "ipython",
    "version": 3
   },
   "file_extension": ".py",
   "mimetype": "text/x-python",
   "name": "python",
   "nbconvert_exporter": "python",
   "pygments_lexer": "ipython3",
   "version": "3.11.5"
  }
 },
 "nbformat": 4,
 "nbformat_minor": 2
}
