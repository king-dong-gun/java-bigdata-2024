{
 "cells": [
  {
   "cell_type": "markdown",
   "metadata": {},
   "source": [
    "## 주피터 노트북 시작\n",
    "- 주피터 노트북 사용법 학습\n",
    "    - VSCode > Command + Shift + P > Creat : 새 Jupyter Notebook 선택\n",
    "    - 반드시 최초 저장\n",
    "    - 마크 다운 셀, 코드 셀 확인\n",
    "    - 노트북을 새로 열면 __모두 실행__을 눌러서 전체 코드셀 다 실행할 것"
   ]
  },
  {
   "cell_type": "code",
   "execution_count": null,
   "metadata": {},
   "outputs": [],
   "source": [
    "print('Hello, Jupyter Notebook!!')"
   ]
  },
  {
   "cell_type": "markdown",
   "metadata": {},
   "source": [
    "## 주피터 노트북 단축키\n",
    "- 필수 단축키\n",
    "    - Command + Enter : 마크다운 셀은 닫기, 코드 셀은 실행\n",
    "    - Shift + Enter : command + Enter 기능 + 현재와 같은 셀을 추가 (마지막 셀에서만 동작)\n",
    "    - a : (현재 셀 위치) 뒤쪽에 코드 셀 추가\n",
    "    - Shift + L : (셀 밖에서) 라인넘버 토글\n",
    "    - Command + / : (셀 내부)주석\n",
    "- 옵션 단축키\n",
    "    - b : (아무것도 선택X) 맨 마지막에 코드 셀 추가\n",
    "    - m : (셀 외부 위치) 코드 셀을 마크다운 셀로 변경\n",
    "    - y : (셀 외부 위치) 마크다운 셀을 코드 셀로 변경\n",
    "        \n",
    "## 디버깅\n",
    "    def add (x, y) :\n",
    "        result = int(x) + int(y)\n",
    "        return result"
   ]
  },
  {
   "cell_type": "code",
   "execution_count": null,
   "metadata": {},
   "outputs": [],
   "source": [
    "def add (x, y) :\n",
    "        result = int(x) + int(y)\n",
    "        return result\n",
    "\n",
    "a, b = input('두 정수를 입력>>>').split('')\n",
    "result = add(x,y)\n",
    "print(f'덧셈 결과는 {result} 입니다.')"
   ]
  }
 ],
 "metadata": {
  "kernelspec": {
   "display_name": "base",
   "language": "python",
   "name": "python3"
  },
  "language_info": {
   "codemirror_mode": {
    "name": "ipython",
    "version": 3
   },
   "file_extension": ".py",
   "mimetype": "text/x-python",
   "name": "python",
   "nbconvert_exporter": "python",
   "pygments_lexer": "ipython3",
   "version": "3.11.5"
  }
 },
 "nbformat": 4,
 "nbformat_minor": 2
}
