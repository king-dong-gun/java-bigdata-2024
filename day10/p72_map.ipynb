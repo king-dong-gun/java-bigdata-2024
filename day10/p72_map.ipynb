{
 "cells": [
  {
   "cell_type": "markdown",
   "metadata": {},
   "source": [
    "## 지도 표시하기\n",
    "\n",
    "- Foluim 라이브러리\n",
    "    - JavaScript로 만들어진 leaf.js 라이브러리를 Python에 쓸 수 있도록 변환(Wrapping)한 것\n",
    "    - https://leafletjs.com/참조\n",
    "    - https://python-visualization.github.io/folium/latest/ 항상 참조 (버전 바뀔때 함수, 옵션 등이 계속 바뀜)\n",
    "\n",
    "- Foilum 살치\n",
    "    ```shell\n",
    "    >> !pip3 install folium\n",
    "    ```\n",
    "    - 노트북에서 실행시 pip 앞에 ! 추가"
   ]
  },
  {
   "cell_type": "code",
   "execution_count": 1,
   "metadata": {},
   "outputs": [
    {
     "name": "stdout",
     "output_type": "stream",
     "text": [
      "Name: folium\n",
      "Version: 0.16.0\n",
      "Summary: Make beautiful maps with Leaflet.js & Python\n",
      "Home-page: https://github.com/python-visualization/folium\n",
      "Author: Rob Story\n",
      "Author-email: wrobstory@gmail.com\n",
      "License: MIT\n",
      "Location: /Users/kimdonggun/anaconda3/lib/python3.11/site-packages\n",
      "Requires: branca, jinja2, numpy, requests, xyzservices\n",
      "Required-by: \n"
     ]
    }
   ],
   "source": [
    "!pip show folium"
   ]
  },
  {
   "cell_type": "code",
   "execution_count": 2,
   "metadata": {},
   "outputs": [
    {
     "name": "stdout",
     "output_type": "stream",
     "text": [
      "Requirement already satisfied: folium in /Users/kimdonggun/anaconda3/lib/python3.11/site-packages (0.16.0)\n",
      "Requirement already satisfied: branca>=0.6.0 in /Users/kimdonggun/anaconda3/lib/python3.11/site-packages (from folium) (0.7.1)\n",
      "Requirement already satisfied: jinja2>=2.9 in /Users/kimdonggun/anaconda3/lib/python3.11/site-packages (from folium) (3.1.2)\n",
      "Requirement already satisfied: numpy in /Users/kimdonggun/anaconda3/lib/python3.11/site-packages (from folium) (1.24.3)\n",
      "Requirement already satisfied: requests in /Users/kimdonggun/anaconda3/lib/python3.11/site-packages (from folium) (2.31.0)\n",
      "Requirement already satisfied: xyzservices in /Users/kimdonggun/anaconda3/lib/python3.11/site-packages (from folium) (2022.9.0)\n",
      "Requirement already satisfied: MarkupSafe>=2.0 in /Users/kimdonggun/anaconda3/lib/python3.11/site-packages (from jinja2>=2.9->folium) (2.1.1)\n",
      "Requirement already satisfied: charset-normalizer<4,>=2 in /Users/kimdonggun/anaconda3/lib/python3.11/site-packages (from requests->folium) (2.0.4)\n",
      "Requirement already satisfied: idna<4,>=2.5 in /Users/kimdonggun/anaconda3/lib/python3.11/site-packages (from requests->folium) (3.4)\n",
      "Requirement already satisfied: urllib3<3,>=1.21.1 in /Users/kimdonggun/anaconda3/lib/python3.11/site-packages (from requests->folium) (1.26.16)\n",
      "Requirement already satisfied: certifi>=2017.4.17 in /Users/kimdonggun/anaconda3/lib/python3.11/site-packages (from requests->folium) (2023.7.22)\n"
     ]
    }
   ],
   "source": [
    "!pip install folium"
   ]
  },
  {
   "cell_type": "markdown",
   "metadata": {},
   "source": [
    "- Folium 모듈 추가\n",
    "```py\n",
    "import folium\n",
    "```"
   ]
  },
  {
   "cell_type": "code",
   "execution_count": 3,
   "metadata": {},
   "outputs": [],
   "source": [
    "import folium"
   ]
  },
  {
   "cell_type": "code",
   "execution_count": 4,
   "metadata": {},
   "outputs": [
    {
     "ename": "SyntaxError",
     "evalue": "invalid syntax. Perhaps you forgot a comma? (4059036188.py, line 3)",
     "output_type": "error",
     "traceback": [
      "\u001b[0;36m  Cell \u001b[0;32mIn[4], line 3\u001b[0;36m\u001b[0m\n\u001b[0;31m    map = folium.Map(location=(35.178508, 129.199443)zoom_start=16)\u001b[0m\n\u001b[0m                              ^\u001b[0m\n\u001b[0;31mSyntaxError\u001b[0m\u001b[0;31m:\u001b[0m invalid syntax. Perhaps you forgot a comma?\n"
     ]
    }
   ],
   "source": [
    "# 지도 표시, 지도확인때는 구글맵 참조\n",
    "# https://map.google.com\n",
    "map = folium.Map(location=(35.178508, 129.199443)zoom_start=16)"
   ]
  },
  {
   "cell_type": "code",
   "execution_count": null,
   "metadata": {},
   "outputs": [],
   "source": [
    "map.save('mymap.html')\n",
    "map"
   ]
  },
  {
   "cell_type": "markdown",
   "metadata": {},
   "source": [
    "- 지도에 타일셋 지정\n",
    "    - OpenStreetMap(기본), OpenStreetMao.HOT, OpenStreetMap.BZH, OpenTopoMap (속도 느림)\n",
    "    - cartodb positron, Cartodb voyager, CartodbDark_matter(cartdb 그룹)"
   ]
  },
  {
   "cell_type": "code",
   "execution_count": 6,
   "metadata": {},
   "outputs": [
    {
     "data": {
      "text/html": [
       "<div style=\"width:100%;\"><div style=\"position:relative;width:100%;height:0;padding-bottom:60%;\"><span style=\"color:#565656\">Make this Notebook Trusted to load map: File -> Trust Notebook</span><iframe srcdoc=\"&lt;!DOCTYPE html&gt;\n",
       "&lt;html&gt;\n",
       "&lt;head&gt;\n",
       "    \n",
       "    &lt;meta http-equiv=&quot;content-type&quot; content=&quot;text/html; charset=UTF-8&quot; /&gt;\n",
       "    \n",
       "        &lt;script&gt;\n",
       "            L_NO_TOUCH = false;\n",
       "            L_DISABLE_3D = false;\n",
       "        &lt;/script&gt;\n",
       "    \n",
       "    &lt;style&gt;html, body {width: 100%;height: 100%;margin: 0;padding: 0;}&lt;/style&gt;\n",
       "    &lt;style&gt;#map {position:absolute;top:0;bottom:0;right:0;left:0;}&lt;/style&gt;\n",
       "    &lt;script src=&quot;https://cdn.jsdelivr.net/npm/leaflet@1.9.3/dist/leaflet.js&quot;&gt;&lt;/script&gt;\n",
       "    &lt;script src=&quot;https://code.jquery.com/jquery-3.7.1.min.js&quot;&gt;&lt;/script&gt;\n",
       "    &lt;script src=&quot;https://cdn.jsdelivr.net/npm/bootstrap@5.2.2/dist/js/bootstrap.bundle.min.js&quot;&gt;&lt;/script&gt;\n",
       "    &lt;script src=&quot;https://cdnjs.cloudflare.com/ajax/libs/Leaflet.awesome-markers/2.0.2/leaflet.awesome-markers.js&quot;&gt;&lt;/script&gt;\n",
       "    &lt;link rel=&quot;stylesheet&quot; href=&quot;https://cdn.jsdelivr.net/npm/leaflet@1.9.3/dist/leaflet.css&quot;/&gt;\n",
       "    &lt;link rel=&quot;stylesheet&quot; href=&quot;https://cdn.jsdelivr.net/npm/bootstrap@5.2.2/dist/css/bootstrap.min.css&quot;/&gt;\n",
       "    &lt;link rel=&quot;stylesheet&quot; href=&quot;https://netdna.bootstrapcdn.com/bootstrap/3.0.0/css/bootstrap.min.css&quot;/&gt;\n",
       "    &lt;link rel=&quot;stylesheet&quot; href=&quot;https://cdn.jsdelivr.net/npm/@fortawesome/fontawesome-free@6.2.0/css/all.min.css&quot;/&gt;\n",
       "    &lt;link rel=&quot;stylesheet&quot; href=&quot;https://cdnjs.cloudflare.com/ajax/libs/Leaflet.awesome-markers/2.0.2/leaflet.awesome-markers.css&quot;/&gt;\n",
       "    &lt;link rel=&quot;stylesheet&quot; href=&quot;https://cdn.jsdelivr.net/gh/python-visualization/folium/folium/templates/leaflet.awesome.rotate.min.css&quot;/&gt;\n",
       "    \n",
       "            &lt;meta name=&quot;viewport&quot; content=&quot;width=device-width,\n",
       "                initial-scale=1.0, maximum-scale=1.0, user-scalable=no&quot; /&gt;\n",
       "            &lt;style&gt;\n",
       "                #map_67f6015ac9ec69381a392b8411f2734a {\n",
       "                    position: relative;\n",
       "                    width: 100.0%;\n",
       "                    height: 100.0%;\n",
       "                    left: 0.0%;\n",
       "                    top: 0.0%;\n",
       "                }\n",
       "                .leaflet-container { font-size: 1rem; }\n",
       "            &lt;/style&gt;\n",
       "        \n",
       "&lt;/head&gt;\n",
       "&lt;body&gt;\n",
       "    \n",
       "    \n",
       "            &lt;div class=&quot;folium-map&quot; id=&quot;map_67f6015ac9ec69381a392b8411f2734a&quot; &gt;&lt;/div&gt;\n",
       "        \n",
       "&lt;/body&gt;\n",
       "&lt;script&gt;\n",
       "    \n",
       "    \n",
       "            var map_67f6015ac9ec69381a392b8411f2734a = L.map(\n",
       "                &quot;map_67f6015ac9ec69381a392b8411f2734a&quot;,\n",
       "                {\n",
       "                    center: [35.178508, 129.199443],\n",
       "                    crs: L.CRS.EPSG3857,\n",
       "                    zoom: 16,\n",
       "                    zoomControl: true,\n",
       "                    preferCanvas: false,\n",
       "                }\n",
       "            );\n",
       "\n",
       "            \n",
       "\n",
       "        \n",
       "    \n",
       "            var tile_layer_8596be13be0e9ef93dbc939688045408 = L.tileLayer(\n",
       "                &quot;https://{s}.basemaps.cartocdn.com/rastertiles/voyager/{z}/{x}/{y}{r}.png&quot;,\n",
       "                {&quot;attribution&quot;: &quot;\\u0026copy; \\u003ca href=\\&quot;https://www.openstreetmap.org/copyright\\&quot;\\u003eOpenStreetMap\\u003c/a\\u003e contributors \\u0026copy; \\u003ca href=\\&quot;https://carto.com/attributions\\&quot;\\u003eCARTO\\u003c/a\\u003e&quot;, &quot;detectRetina&quot;: false, &quot;maxNativeZoom&quot;: 20, &quot;maxZoom&quot;: 20, &quot;minZoom&quot;: 0, &quot;noWrap&quot;: false, &quot;opacity&quot;: 1, &quot;subdomains&quot;: &quot;abcd&quot;, &quot;tms&quot;: false}\n",
       "            );\n",
       "        \n",
       "    \n",
       "            tile_layer_8596be13be0e9ef93dbc939688045408.addTo(map_67f6015ac9ec69381a392b8411f2734a);\n",
       "        \n",
       "&lt;/script&gt;\n",
       "&lt;/html&gt;\" style=\"position:absolute;width:100%;height:100%;left:0;top:0;border:none !important;\" allowfullscreen webkitallowfullscreen mozallowfullscreen></iframe></div></div>"
      ],
      "text/plain": [
       "<folium.folium.Map at 0x134c1cd50>"
      ]
     },
     "execution_count": 6,
     "metadata": {},
     "output_type": "execute_result"
    }
   ],
   "source": [
    "# 타일셋 지정\n",
    "map = folium.Map(location=(35.178508, 129.199443), zoom_start=16, tiles='CartoDB Voyager')\n",
    "map"
   ]
  },
  {
   "cell_type": "markdown",
   "metadata": {},
   "source": [
    "- 지도 마커 표시\n",
    "    - Marker() 클래스로 생성한 뒤 지도에 추가"
   ]
  },
  {
   "cell_type": "code",
   "execution_count": 11,
   "metadata": {},
   "outputs": [
    {
     "name": "stderr",
     "output_type": "stream",
     "text": [
      "/var/folders/44/0l87xs4136n5n95018b2kvrc0000gn/T/ipykernel_7488/405178969.py:9: UserWarning: color argument of Icon should be one of: {'darkgreen', 'pink', 'darkpurple', 'lightred', 'darkblue', 'cadetblue', 'red', 'beige', 'purple', 'darkred', 'green', 'black', 'blue', 'gray', 'orange', 'lightgreen', 'white', 'lightgray', 'lightblue'}.\n",
      "  folium.Marker(location=[35.1808978, 129.2035002], tooltip='송정 하삼동', popup=popup, icon=folium.Icon(color='yellow', icon='heart')).add_to(map)\n"
     ]
    },
    {
     "data": {
      "text/html": [
       "<div style=\"width:100%;\"><div style=\"position:relative;width:100%;height:0;padding-bottom:60%;\"><span style=\"color:#565656\">Make this Notebook Trusted to load map: File -> Trust Notebook</span><iframe srcdoc=\"&lt;!DOCTYPE html&gt;\n",
       "&lt;html&gt;\n",
       "&lt;head&gt;\n",
       "    \n",
       "    &lt;meta http-equiv=&quot;content-type&quot; content=&quot;text/html; charset=UTF-8&quot; /&gt;\n",
       "    \n",
       "        &lt;script&gt;\n",
       "            L_NO_TOUCH = false;\n",
       "            L_DISABLE_3D = false;\n",
       "        &lt;/script&gt;\n",
       "    \n",
       "    &lt;style&gt;html, body {width: 100%;height: 100%;margin: 0;padding: 0;}&lt;/style&gt;\n",
       "    &lt;style&gt;#map {position:absolute;top:0;bottom:0;right:0;left:0;}&lt;/style&gt;\n",
       "    &lt;script src=&quot;https://cdn.jsdelivr.net/npm/leaflet@1.9.3/dist/leaflet.js&quot;&gt;&lt;/script&gt;\n",
       "    &lt;script src=&quot;https://code.jquery.com/jquery-3.7.1.min.js&quot;&gt;&lt;/script&gt;\n",
       "    &lt;script src=&quot;https://cdn.jsdelivr.net/npm/bootstrap@5.2.2/dist/js/bootstrap.bundle.min.js&quot;&gt;&lt;/script&gt;\n",
       "    &lt;script src=&quot;https://cdnjs.cloudflare.com/ajax/libs/Leaflet.awesome-markers/2.0.2/leaflet.awesome-markers.js&quot;&gt;&lt;/script&gt;\n",
       "    &lt;link rel=&quot;stylesheet&quot; href=&quot;https://cdn.jsdelivr.net/npm/leaflet@1.9.3/dist/leaflet.css&quot;/&gt;\n",
       "    &lt;link rel=&quot;stylesheet&quot; href=&quot;https://cdn.jsdelivr.net/npm/bootstrap@5.2.2/dist/css/bootstrap.min.css&quot;/&gt;\n",
       "    &lt;link rel=&quot;stylesheet&quot; href=&quot;https://netdna.bootstrapcdn.com/bootstrap/3.0.0/css/bootstrap.min.css&quot;/&gt;\n",
       "    &lt;link rel=&quot;stylesheet&quot; href=&quot;https://cdn.jsdelivr.net/npm/@fortawesome/fontawesome-free@6.2.0/css/all.min.css&quot;/&gt;\n",
       "    &lt;link rel=&quot;stylesheet&quot; href=&quot;https://cdnjs.cloudflare.com/ajax/libs/Leaflet.awesome-markers/2.0.2/leaflet.awesome-markers.css&quot;/&gt;\n",
       "    &lt;link rel=&quot;stylesheet&quot; href=&quot;https://cdn.jsdelivr.net/gh/python-visualization/folium/folium/templates/leaflet.awesome.rotate.min.css&quot;/&gt;\n",
       "    \n",
       "            &lt;meta name=&quot;viewport&quot; content=&quot;width=device-width,\n",
       "                initial-scale=1.0, maximum-scale=1.0, user-scalable=no&quot; /&gt;\n",
       "            &lt;style&gt;\n",
       "                #map_63380d1bdd9d65a9bcc8e28458a079b2 {\n",
       "                    position: relative;\n",
       "                    width: 100.0%;\n",
       "                    height: 100.0%;\n",
       "                    left: 0.0%;\n",
       "                    top: 0.0%;\n",
       "                }\n",
       "                .leaflet-container { font-size: 1rem; }\n",
       "            &lt;/style&gt;\n",
       "        \n",
       "&lt;/head&gt;\n",
       "&lt;body&gt;\n",
       "    \n",
       "    \n",
       "            &lt;div class=&quot;folium-map&quot; id=&quot;map_63380d1bdd9d65a9bcc8e28458a079b2&quot; &gt;&lt;/div&gt;\n",
       "        \n",
       "&lt;/body&gt;\n",
       "&lt;script&gt;\n",
       "    \n",
       "    \n",
       "            var map_63380d1bdd9d65a9bcc8e28458a079b2 = L.map(\n",
       "                &quot;map_63380d1bdd9d65a9bcc8e28458a079b2&quot;,\n",
       "                {\n",
       "                    center: [35.178508, 129.199443],\n",
       "                    crs: L.CRS.EPSG3857,\n",
       "                    zoom: 16,\n",
       "                    zoomControl: true,\n",
       "                    preferCanvas: false,\n",
       "                }\n",
       "            );\n",
       "\n",
       "            \n",
       "\n",
       "        \n",
       "    \n",
       "            var tile_layer_ab34a17ec860f412ff4da8eface93e8d = L.tileLayer(\n",
       "                &quot;http://mt0.google.com/vt/lyrs=m\\u0026hl=ko\\u0026x={x}\\u0026y={y}\\u0026z={z}&quot;,\n",
       "                {&quot;attribution&quot;: &quot;Google&quot;, &quot;detectRetina&quot;: false, &quot;maxNativeZoom&quot;: 18, &quot;maxZoom&quot;: 18, &quot;minZoom&quot;: 0, &quot;noWrap&quot;: false, &quot;opacity&quot;: 1, &quot;subdomains&quot;: &quot;abc&quot;, &quot;tms&quot;: false}\n",
       "            );\n",
       "        \n",
       "    \n",
       "            tile_layer_ab34a17ec860f412ff4da8eface93e8d.addTo(map_63380d1bdd9d65a9bcc8e28458a079b2);\n",
       "        \n",
       "    \n",
       "            var marker_8c035ebd75da73fee0def75f73c307e1 = L.marker(\n",
       "                [35.1808978, 129.2035002],\n",
       "                {}\n",
       "            ).addTo(map_63380d1bdd9d65a9bcc8e28458a079b2);\n",
       "        \n",
       "    \n",
       "            var icon_b10f19d6627b451bb54f67209df32d2f = L.AwesomeMarkers.icon(\n",
       "                {&quot;extraClasses&quot;: &quot;fa-rotate-0&quot;, &quot;icon&quot;: &quot;heart&quot;, &quot;iconColor&quot;: &quot;white&quot;, &quot;markerColor&quot;: &quot;yellow&quot;, &quot;prefix&quot;: &quot;glyphicon&quot;}\n",
       "            );\n",
       "            marker_8c035ebd75da73fee0def75f73c307e1.setIcon(icon_b10f19d6627b451bb54f67209df32d2f);\n",
       "        \n",
       "    \n",
       "        var popup_a45fbc021bfa47e046d397f0d39e6287 = L.popup({&quot;maxWidth&quot;: 300, &quot;minWidth&quot;: 200});\n",
       "\n",
       "        \n",
       "            \n",
       "                var html_6bdf1cb477a4690382f1aafc83064740 = $(`&lt;div id=&quot;html_6bdf1cb477a4690382f1aafc83064740&quot; style=&quot;width: 100.0%; height: 100.0%;&quot;&gt;&lt;pre&gt;하삼동 존맛ㅋㅋ&lt;/pre&gt;&lt;/div&gt;`)[0];\n",
       "                popup_a45fbc021bfa47e046d397f0d39e6287.setContent(html_6bdf1cb477a4690382f1aafc83064740);\n",
       "            \n",
       "        \n",
       "\n",
       "        marker_8c035ebd75da73fee0def75f73c307e1.bindPopup(popup_a45fbc021bfa47e046d397f0d39e6287)\n",
       "        ;\n",
       "\n",
       "        \n",
       "    \n",
       "    \n",
       "            marker_8c035ebd75da73fee0def75f73c307e1.bindTooltip(\n",
       "                `&lt;div&gt;\n",
       "                     송정 하삼동\n",
       "                 &lt;/div&gt;`,\n",
       "                {&quot;sticky&quot;: true}\n",
       "            );\n",
       "        \n",
       "    \n",
       "            var marker_2827b73b76b46ff32c6d94d0c4426d5a = L.marker(\n",
       "                [35.180762, 129.202324],\n",
       "                {}\n",
       "            ).addTo(map_63380d1bdd9d65a9bcc8e28458a079b2);\n",
       "        \n",
       "    \n",
       "            var icon_fadaf9cf38a3308945cec2ec8838e4e2 = L.AwesomeMarkers.icon(\n",
       "                {&quot;extraClasses&quot;: &quot;fa-rotate-0&quot;, &quot;icon&quot;: &quot;heart&quot;, &quot;iconColor&quot;: &quot;white&quot;, &quot;markerColor&quot;: &quot;green&quot;, &quot;prefix&quot;: &quot;glyphicon&quot;}\n",
       "            );\n",
       "            marker_2827b73b76b46ff32c6d94d0c4426d5a.setIcon(icon_fadaf9cf38a3308945cec2ec8838e4e2);\n",
       "        \n",
       "    \n",
       "        var popup_858a1fa9c5c5ca63b2aeb891d6fe9e55 = L.popup({&quot;maxWidth&quot;: 300, &quot;minWidth&quot;: 200});\n",
       "\n",
       "        \n",
       "            \n",
       "                var html_b5233428cf73abbe58474d1b6759e9c8 = $(`&lt;div id=&quot;html_b5233428cf73abbe58474d1b6759e9c8&quot; style=&quot;width: 100.0%; height: 100.0%;&quot;&gt;&lt;pre&gt;스벅은 별로ㅋㅋ&lt;/pre&gt;&lt;/div&gt;`)[0];\n",
       "                popup_858a1fa9c5c5ca63b2aeb891d6fe9e55.setContent(html_b5233428cf73abbe58474d1b6759e9c8);\n",
       "            \n",
       "        \n",
       "\n",
       "        marker_2827b73b76b46ff32c6d94d0c4426d5a.bindPopup(popup_858a1fa9c5c5ca63b2aeb891d6fe9e55)\n",
       "        ;\n",
       "\n",
       "        \n",
       "    \n",
       "    \n",
       "            marker_2827b73b76b46ff32c6d94d0c4426d5a.bindTooltip(\n",
       "                `&lt;div&gt;\n",
       "                     송정 스타벅스\n",
       "                 &lt;/div&gt;`,\n",
       "                {&quot;sticky&quot;: true}\n",
       "            );\n",
       "        \n",
       "&lt;/script&gt;\n",
       "&lt;/html&gt;\" style=\"position:absolute;width:100%;height:100%;left:0;top:0;border:none !important;\" allowfullscreen webkitallowfullscreen mozallowfullscreen></iframe></div></div>"
      ],
      "text/plain": [
       "<folium.folium.Map at 0x134d8b050>"
      ]
     },
     "execution_count": 11,
     "metadata": {},
     "output_type": "execute_result"
    }
   ],
   "source": [
    "# 구글 지도 타일 설정\n",
    "tiles = \"http://mt0.google.com/vt/lyrs=m&hl=ko&x={x}&y={y}&z={z}\"\n",
    "# 속성 설정\n",
    "attr = \"Google\"\n",
    "\n",
    "map = folium.Map(location=[35.178508, 129.199443], zoom_start=16, tiles=tiles, attr=attr)\n",
    "\n",
    "popup = folium.Popup('<pre>하삼동 존맛ㅋㅋ</pre>', min_width=200, max_width=300)\n",
    "folium.Marker(location=[35.1808978, 129.2035002], tooltip='송정 하삼동', popup=popup, icon=folium.Icon(color='yellow', icon='heart')).add_to(map)\n",
    "popup = folium.Popup('<pre>스벅은 별로ㅋㅋ</pre>', min_width=200, max_width=300)\n",
    "folium.Marker(location=[35.180762, 129.202324], tooltip='송정 스타벅스', popup=popup, icon=folium.Icon(color='green', icon='heart')).add_to(map)\n",
    "map"
   ]
  }
 ],
 "metadata": {
  "kernelspec": {
   "display_name": "base",
   "language": "python",
   "name": "python3"
  },
  "language_info": {
   "codemirror_mode": {
    "name": "ipython",
    "version": 3
   },
   "file_extension": ".py",
   "mimetype": "text/x-python",
   "name": "python",
   "nbconvert_exporter": "python",
   "pygments_lexer": "ipython3",
   "version": "3.11.5"
  }
 },
 "nbformat": 4,
 "nbformat_minor": 2
}
